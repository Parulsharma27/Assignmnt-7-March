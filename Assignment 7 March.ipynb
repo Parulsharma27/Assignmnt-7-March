{
 "cells": [
  {
   "cell_type": "code",
   "execution_count": null,
   "id": "8837c266-b7e0-4599-b43f-7d8c8765eff0",
   "metadata": {},
   "outputs": [],
   "source": [
    "The three measures of central tendency are:\n",
    "\n",
    "Mean: The mean is the sum of all the values in a dataset divided by the number of values. It is commonly used to represent the \"average\" value of a dataset.\n",
    "\n",
    "Median: The median is the middle value in a dataset when the values are arranged in order. It is less sensitive to outliers than the mean, making it a more robust measure of central tendency.\n",
    "\n",
    "Mode: The mode is the most frequent value in a dataset. It is useful for identifying the most common value in a dataset, especially for categorical or nominal data."
   ]
  },
  {
   "cell_type": "code",
   "execution_count": null,
   "id": "b9352e83-f2cf-477b-ae8b-87072981b69e",
   "metadata": {},
   "outputs": [],
   "source": []
  },
  {
   "cell_type": "code",
   "execution_count": null,
   "id": "c51bb1ff-f87d-43dc-9336-f1ea51e463c9",
   "metadata": {},
   "outputs": [],
   "source": []
  },
  {
   "cell_type": "code",
   "execution_count": null,
   "id": "2f8683c9-9e99-466e-8b5d-96f7917de766",
   "metadata": {},
   "outputs": [],
   "source": []
  },
  {
   "cell_type": "code",
   "execution_count": null,
   "id": "ae5603d7-2c77-4a50-b994-2a401af01b07",
   "metadata": {},
   "outputs": [],
   "source": [
    "The mean, median, and mode are all measures of central tendency, which describe the typical or representative value in a dataset. However, they differ in the way they are calculated and how they are affected by outliers.\n",
    "\n",
    "The mean is the sum of all the values in a dataset divided by the number of values. It represents the \"average\" value of a dataset. The mean is sensitive to outliers, which means that it can be influenced by extreme values. If a dataset has one or more outliers, the mean can be pulled towards those outliers and may not accurately represent the typical value in the dataset.\n",
    "\n",
    "The median is the middle value in a dataset when the values are arranged in order. It is less sensitive to outliers than the mean, making it a more robust measure of central tendency. The median is useful when a dataset has extreme values or is skewed, which means that the values are not evenly distributed.\n",
    "\n",
    "The mode is the most frequent value in a dataset. It is useful for identifying the most common value in a dataset, especially for categorical or nominal data. The mode is not affected by outliers, but it may not be a good measure of central tendency when the dataset has multiple values that occur with similar frequency.\n",
    "\n",
    "Overall, the choice of which measure of central tendency to use depends on the nature of the dataset and the research question being asked. The mean is often used when the dataset is approximately normally distributed and does not have outliers. The median is used when the dataset is skewed or has outliers, and the mode is used when identifying the most common value is important, especially for categorical or nominal data."
   ]
  },
  {
   "cell_type": "code",
   "execution_count": 1,
   "id": "978a184c-4587-4e10-9f7a-a89cb02c7c1e",
   "metadata": {},
   "outputs": [
    {
     "data": {
      "text/plain": [
       "177.01875"
      ]
     },
     "execution_count": 1,
     "metadata": {},
     "output_type": "execute_result"
    }
   ],
   "source": [
    "import numpy as np\n",
    "list= [178,177,176,177,178.2,178,175,179,180,175,178.9,176.2,177,172.5,178,176.5]\n",
    "np.mean(list)"
   ]
  },
  {
   "cell_type": "code",
   "execution_count": 2,
   "id": "73606799-dd4b-46d8-80d4-135b998e8046",
   "metadata": {},
   "outputs": [
    {
     "data": {
      "text/plain": [
       "177.0"
      ]
     },
     "execution_count": 2,
     "metadata": {},
     "output_type": "execute_result"
    }
   ],
   "source": [
    "np.median(list)\n"
   ]
  },
  {
   "cell_type": "code",
   "execution_count": 4,
   "id": "dd1f35c7-0747-46ae-bae8-119319c2429d",
   "metadata": {},
   "outputs": [
    {
     "name": "stderr",
     "output_type": "stream",
     "text": [
      "/tmp/ipykernel_109/2391702617.py:2: FutureWarning: Unlike other reduction functions (e.g. `skew`, `kurtosis`), the default behavior of `mode` typically preserves the axis it acts along. In SciPy 1.11.0, this behavior will change: the default value of `keepdims` will become False, the `axis` over which the statistic is taken will be eliminated, and the value None will no longer be accepted. Set `keepdims` to True or False to avoid this warning.\n",
      "  st.mode(list)\n"
     ]
    },
    {
     "data": {
      "text/plain": [
       "ModeResult(mode=array([177.]), count=array([3]))"
      ]
     },
     "execution_count": 4,
     "metadata": {},
     "output_type": "execute_result"
    }
   ],
   "source": [
    "from scipy import stats as st\n",
    "st.mode(list)"
   ]
  },
  {
   "cell_type": "code",
   "execution_count": 5,
   "id": "e480afbf-3bf0-4f9f-be68-5453324c2e44",
   "metadata": {},
   "outputs": [
    {
     "data": {
      "text/plain": [
       "1.7885814036548633"
      ]
     },
     "execution_count": 5,
     "metadata": {},
     "output_type": "execute_result"
    }
   ],
   "source": [
    "np.std(list)"
   ]
  },
  {
   "cell_type": "code",
   "execution_count": null,
   "id": "57d38a23-83de-4b0d-9d84-2d8b852aaffd",
   "metadata": {},
   "outputs": [],
   "source": [
    "Measures of dispersion, such as range, variance, and standard deviation, are used to describe the spread or variability of a dataset. They provide information about how much the values in a dataset deviate from the central tendency measures, such as the mean or median.\n",
    "\n",
    "Range: The range is the difference between the largest and smallest values in a dataset. It provides a simple measure of the spread of the data. For example, the range of a set of test scores could be used to determine how widely the scores vary.\n",
    "\n",
    "Variance: The variance is the average of the squared differences between each value in a dataset and the mean. It measures how spread out the values are from the mean. A high variance indicates that the values are widely spread out, while a low variance indicates that the values are tightly clustered around the mean.\n",
    "\n",
    "Standard deviation: The standard deviation is the square root of the variance. It provides a measure of how much the values in a dataset deviate from the mean. The standard deviation is useful for comparing the variability of datasets that have different units of measurement.\n",
    "\n",
    "For example, suppose we have two datasets of test scores: one from a small school with a mean score of 70 and a standard deviation of 5, and another from a larger school with a mean score of 70 and a standard deviation of 10. The standard deviation of the second dataset is higher, indicating that the test scores are more spread out, despite having the same mean score as the first dataset.\n",
    "\n",
    "Overall, measures of dispersion provide important information about the spread of a dataset, and can be used to make comparisons between different datasets or to identify unusual patterns within a single dataset."
   ]
  },
  {
   "cell_type": "code",
   "execution_count": null,
   "id": "e56d9927-23a0-4871-8859-b7fb4e2baa3d",
   "metadata": {},
   "outputs": [],
   "source": [
    "A Venn diagram is a graphical representation of sets or groups of objects or concepts. It is used to show the relationships between different sets or groups, and to illustrate the overlap or intersection between them."
   ]
  },
  {
   "cell_type": "code",
   "execution_count": null,
   "id": "21de449f-4158-4f56-82e1-e9d31217b203",
   "metadata": {},
   "outputs": [],
   "source": []
  },
  {
   "cell_type": "code",
   "execution_count": null,
   "id": "a6fd10ec-19bd-403c-8cc5-db7ddb397bb5",
   "metadata": {},
   "outputs": [],
   "source": [
    "Skewness in data refers to the degree of asymmetry or lack of symmetry in the distribution of the data. A symmetric distribution has equal amounts of data on both sides of the central point, while a skewed distribution has more data on one side than the other.\n",
    "\n",
    "Positive skewness occurs when the majority of the data is concentrated on the left-hand side of the distribution, with a long tail extending towards the right-hand side. This is also called right-skewed distribution. For example, salaries of employees in a company can be positively skewed because the majority of employees earn a low or average salary, while a small number of employees earn much higher salaries.\n",
    "\n",
    "Negative skewness occurs when the majority of the data is concentrated on the right-hand side of the distribution, with a long tail extending towards the left-hand side. This is also called left-skewed distribution. For example, the age at which people retire can be negatively skewed because most people retire around a certain age, but there are a few who retire much earlier or later."
   ]
  },
  {
   "cell_type": "code",
   "execution_count": null,
   "id": "c97f39cf-a8ce-44ec-8ce5-9a12b541e3f8",
   "metadata": {},
   "outputs": [],
   "source": [
    "If a data is right skewed, then the median will be less than the mean.\n",
    "\n",
    "In a right-skewed distribution, the tail of the distribution is longer on the right-hand side, which means that there are some extreme values that are larger than the majority of the data. These extreme values can pull the mean to the right, making it larger than the median.\n",
    "\n",
    "On the other hand, the median is the value that separates the data into two equal parts, with half of the values below it and half above it. Since the median is not affected by extreme values, it tends to be more robust than the mean as a measure of central tendency in skewed distributions. Therefore, in a right-skewed distribution, the median is typically smaller than the mean."
   ]
  },
  {
   "cell_type": "code",
   "execution_count": null,
   "id": "fc06762e-1917-44c3-9446-8dc9efd1f553",
   "metadata": {},
   "outputs": [],
   "source": [
    "Covariance is a measure of how two variables vary together. Specifically, it measures the degree to which changes in one variable are associated with changes in another variable. If the covariance between two variables is positive, it indicates that when one variable increases, the other variable tends to increase as well. Conversely, if the covariance is negative, it indicates that when one variable increases, the other variable tends to decrease.\n",
    "\n",
    "However, the scale of covariance depends on the units of the variables, which makes it difficult to compare covariances across different datasets. Additionally, the magnitude of covariance does not provide information about the strength of the relationship between the variables.\n",
    "\n",
    "Correlation, on the other hand, is a standardized measure of the strength and direction of the relationship between two variables. Correlation coefficients range from -1 to +1, with values closer to -1 indicating a strong negative relationship, values closer to +1 indicating a strong positive relationship, and values close to 0 indicating a weak or no relationship.\n",
    "\n",
    "The correlation coefficient is calculated by dividing the covariance between the two variables by the product of their standard deviations, which normalizes the measure and makes it comparable across different datasets. Correlation coefficients are commonly used in statistical analysis to test hypotheses about the relationship between two variables, to assess the strength of association between variables, and to develop predictive models."
   ]
  },
  {
   "cell_type": "code",
   "execution_count": null,
   "id": "a1a6357d-af2e-4bae-ad48-6a1f36e03605",
   "metadata": {},
   "outputs": [],
   "source": [
    "The formula for calculating the sample mean is:\n",
    "\n",
    "x̄ = (Σx) / n\n",
    "\n",
    "where x̄ is the sample mean, Σx is the sum of all the values in the dataset, and n is the sample size.\n",
    "\n",
    "For example, suppose we have a dataset of test scores for 10 students:\n",
    "\n",
    "72, 85, 90, 68, 77, 83, 92, 79, 88, 94\n",
    "\n",
    "To find the sample mean, we first add up all the values in the dataset:\n",
    "\n",
    "72 + 85 + 90 + 68 + 77 + 83 + 92 + 79 + 88 + 94 = 808\n",
    "\n",
    "Then, we divide the sum by the sample size, which is 10:\n",
    "\n",
    "x̄ = 808 / 10 = 80.8\n",
    "\n",
    "Therefore, the sample mean for this dataset is 80.8."
   ]
  },
  {
   "cell_type": "code",
   "execution_count": null,
   "id": "132fba20-994a-47ac-8493-3c8e350df7f8",
   "metadata": {},
   "outputs": [],
   "source": [
    "For a normal distribution, the mean, median, and mode are all equal. In other words, they have the same value. This is because a normal distribution is symmetric around its mean, with half of the data values falling to the left of the mean and half falling to the right. The peak of the distribution, where the mode is located, is also at the same point as the mean and median. Therefore, for a normal distribution, the measures of central tendency are all located at the same point."
   ]
  },
  {
   "cell_type": "code",
   "execution_count": null,
   "id": "52e65ab3-f9ec-4a89-ba99-44e594c723e3",
   "metadata": {},
   "outputs": [],
   "source": [
    "Covariance and correlation are both measures of the relationship between two variables, but they have some important differences:\n",
    "\n",
    "Definition: Covariance is a measure of how two variables change together, while correlation is a measure of the strength of the linear relationship between two variables.\n",
    "\n",
    "Units: Covariance has units that are the product of the units of the two variables being measured, while correlation is unitless.\n",
    "\n",
    "Range of values: Covariance can take on any value, including negative values, while correlation ranges from -1 to 1.\n",
    "\n",
    "Interpretation: A positive covariance indicates that the two variables tend to increase or decrease together, while a negative covariance indicates that they tend to move in opposite directions. A correlation of 1 indicates a perfect positive linear relationship, a correlation of -1 indicates a perfect negative linear relationship, and a correlation of 0 indicates no linear relationship between the two variables.\n",
    "\n",
    "Sensitivity to outliers: Covariance is sensitive to outliers, while correlation is less sensitive to outliers.\n",
    "\n",
    "In summary, covariance measures the extent to which two variables are related to each other, while correlation measures the strength and direction of the relationship between two variables, while being less sensitive to outliers."
   ]
  },
  {
   "cell_type": "code",
   "execution_count": null,
   "id": "623d00cc-695d-4977-a500-b39beedfd46f",
   "metadata": {},
   "outputs": [],
   "source": [
    "Outliers can have a significant impact on measures of central tendency and dispersion. An outlier is an observation that is significantly different from other observations in the dataset. Outliers can occur due to measurement error, data entry errors, or rare events.\n",
    "\n",
    "The effect of outliers on measures of central tendency such as the mean and median depends on the direction and magnitude of the outlier. An outlier that is larger than the majority of the other observations in the dataset will pull the mean towards it, making it higher than the median. Conversely, an outlier that is smaller than the majority of the other observations in the dataset will pull the mean towards it, making it lower than the median.\n",
    "\n",
    "The effect of outliers on measures of dispersion such as the range, variance, and standard deviation can be significant as well. An outlier can increase the range of the dataset, making it seem more spread out than it actually is. An outlier can also increase the variance and standard deviation of the dataset, making it appear more variable than it actually is.\n",
    "\n",
    "For example, consider a dataset of exam scores for a class of 30 students: 78, 82, 85, 87, 90, 91, 93, 94, 96, 97, 98, 99, 100, 101, 102, 103, 104, 105, 106, 107, 108, 109, 110, 111, 112, 113, 114, 115, 120, 130. The outlier score of 130 is much higher than the other scores and will have a significant effect on the mean, increasing it to 98.5. However, the median remains at 100, which is a more accurate measure of central tendency for this dataset. The outlier also affects the range of the dataset, increasing it from 42 to 52, and the variance and standard deviation, making them larger than they would be without the outlier."
   ]
  }
 ],
 "metadata": {
  "kernelspec": {
   "display_name": "Python 3 (ipykernel)",
   "language": "python",
   "name": "python3"
  },
  "language_info": {
   "codemirror_mode": {
    "name": "ipython",
    "version": 3
   },
   "file_extension": ".py",
   "mimetype": "text/x-python",
   "name": "python",
   "nbconvert_exporter": "python",
   "pygments_lexer": "ipython3",
   "version": "3.10.8"
  }
 },
 "nbformat": 4,
 "nbformat_minor": 5
}
